{
 "cells": [
  {
   "cell_type": "code",
   "execution_count": 2,
   "metadata": {
    "collapsed": false
   },
   "outputs": [],
   "source": [
    "import cv2 as cv\n",
    "import numpy as np"
   ]
  },
  {
   "cell_type": "code",
   "execution_count": 3,
   "metadata": {
    "collapsed": false
   },
   "outputs": [],
   "source": [
    "image=cv.imread('p5.jpeg')\n",
    "image=cv.cvtColor(image,cv.COLOR_BGR2GRAY)"
   ]
  },
  {
   "cell_type": "code",
   "execution_count": 4,
   "metadata": {
    "collapsed": false
   },
   "outputs": [
    {
     "name": "stdout",
     "output_type": "stream",
     "text": [
      "(200, 200)\n"
     ]
    }
   ],
   "source": [
    "print image.shape"
   ]
  },
  {
   "cell_type": "code",
   "execution_count": 7,
   "metadata": {
    "collapsed": false
   },
   "outputs": [
    {
     "name": "stdout",
     "output_type": "stream",
     "text": [
      "[  0  27  36  43  48  52  56  60  63  66  69  72  75  77  79  82  84  86\n",
      "  88  90  92  93  95  97  99 100 102 103 105 106 108 109 111 112 113 115\n",
      " 116 117 119 120 121 122 123 125 126 127 128 129 130 131 132 133 134 136\n",
      " 137 138 139 140 141 141 142 143 144 145 146 147 148 149 150 151 152 152\n",
      " 153 154 155 156 157 157 158 159 160 161 161 162 163 164 165 165 166 167\n",
      " 168 168 169 170 171 171 172 173 173 174 175 176 176 177 178 178 179 180\n",
      " 180 181 182 182 183 184 184 185 186 186 187 187 188 189 189 190 191 191\n",
      " 192 192 193 194 194 195 195 196 197 197 198 198 199 200 200 201 201 202\n",
      " 202 203 204 204 205 205 206 206 207 207 208 208 209 210 210 211 211 212\n",
      " 212 213 213 214 214 215 215 216 216 217 217 218 218 219 219 220 220 221\n",
      " 221 222 222 223 223 224 224 225 225 226 226 227 227 228 228 229 229 229\n",
      " 230 230 231 231 232 232 233 233 234 234 235 235 235 236 236 237 237 238\n",
      " 238 239 239 239 240 240 241 241 242 242 242 243 243 244 244 245 245 245\n",
      " 246 246 247 247 248 248 248 249 249 250 250 250 251 251 252 252 252 253\n",
      " 253 254 254 255]\n",
      "(200, 200)\n"
     ]
    }
   ],
   "source": [
    "\n",
    "invGamma = 1.0 / 2.5\n",
    "table1 = np.array([((i / 255.0) ** invGamma) * 255 for i in np.arange(0, 256)]).astype(\"uint8\")\n",
    "print table1\n",
    "p=cv.LUT(image, table1)\n",
    "print p.shape"
   ]
  },
  {
   "cell_type": "code",
   "execution_count": 8,
   "metadata": {
    "collapsed": false
   },
   "outputs": [],
   "source": [
    "cv.startWindowThread()\n",
    "cv.namedWindow(\"img\")\n",
    "cv.imshow('img',p)"
   ]
  },
  {
   "cell_type": "code",
   "execution_count": null,
   "metadata": {
    "collapsed": true
   },
   "outputs": [],
   "source": []
  }
 ],
 "metadata": {
  "kernelspec": {
   "display_name": "Python 2",
   "language": "python",
   "name": "python2"
  },
  "language_info": {
   "codemirror_mode": {
    "name": "ipython",
    "version": 2
   },
   "file_extension": ".py",
   "mimetype": "text/x-python",
   "name": "python",
   "nbconvert_exporter": "python",
   "pygments_lexer": "ipython2",
   "version": "2.7.12"
  }
 },
 "nbformat": 4,
 "nbformat_minor": 2
}
