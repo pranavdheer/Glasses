{
 "cells": [
  {
   "cell_type": "code",
   "execution_count": 2,
   "metadata": {
    "collapsed": false
   },
   "outputs": [
    {
     "name": "stdout",
     "output_type": "stream",
     "text": [
      "Processing file: img.jpeg\n",
      "Number of faces detected: 1\n",
      "Detection 0: Left: 27 Top: 27 Right: 181 Bottom: 182\n",
      "(30, 112)\n",
      "(33, 130)\n",
      "(37, 149)\n",
      "(44, 167)\n",
      "(55, 181)\n",
      "(70, 194)\n",
      "(89, 202)\n",
      "(112, 203)\n",
      "(135, 199)\n",
      "(152, 187)\n",
      "(165, 173)\n",
      "(174, 157)\n",
      "(178, 138)\n",
      "(180, 119)\n",
      "(179, 100)\n",
      "(178, 81)\n",
      "(38, 76)\n",
      "(45, 65)\n",
      "(58, 59)\n",
      "(72, 59)\n",
      "(86, 63)\n",
      "(108, 60)\n",
      "(121, 52)\n",
      "(136, 49)\n",
      "(151, 51)\n",
      "(162, 61)\n",
      "(98, 75)\n",
      "(99, 90)\n",
      "(100, 103)\n",
      "(102, 117)\n",
      "(86, 128)\n",
      "(94, 131)\n",
      "(104, 133)\n",
      "(113, 128)\n",
      "(121, 124)\n",
      "(53, 86)\n",
      "(60, 81)\n",
      "(70, 79)\n",
      "(80, 83)\n",
      "(71, 86)\n",
      "(61, 87)\n",
      "(120, 78)\n",
      "(128, 72)\n",
      "(138, 71)\n",
      "(147, 74)\n",
      "(139, 78)\n",
      "(129, 79)\n",
      "(77, 152)\n",
      "(88, 148)\n",
      "(98, 145)\n",
      "(106, 145)\n",
      "(114, 142)\n",
      "(126, 142)\n",
      "(139, 143)\n",
      "(128, 153)\n",
      "(117, 157)\n",
      "(109, 159)\n",
      "(100, 160)\n",
      "(89, 158)\n",
      "(81, 153)\n",
      "(99, 151)\n",
      "(107, 150)\n",
      "(115, 149)\n",
      "(135, 145)\n",
      "(116, 149)\n",
      "(108, 151)\n",
      "(99, 152)\n"
     ]
    },
    {
     "data": {
      "text/plain": [
       "True"
      ]
     },
     "execution_count": 2,
     "metadata": {},
     "output_type": "execute_result"
    }
   ],
   "source": [
    "import sys \n",
    "import os \n",
    "import dlib \n",
    "import glob \n",
    "from skimage import io \n",
    "import cv2\n",
    "detector = dlib.get_frontal_face_detector() \n",
    "predictor =          dlib.shape_predictor(\"shape_predictor_68_face_landmarks.dat\") \n",
    "win = dlib.image_window() \n",
    "\n",
    "for f in glob.glob(os.path.join(\"img.jpeg\")): \n",
    "    print(\"Processing file: {}\".format(f)) \n",
    "    img = io.imread(f) \n",
    "\n",
    "    win.clear_overlay() \n",
    "    win.set_image(img) \n",
    "\n",
    "    dets = detector(img, 1) \n",
    "    print(\"Number of faces detected: {}\".format(len(dets))) \n",
    "    for k, d in enumerate(dets): \n",
    "        print(\"Detection {}: Left: {} Top: {} Right: {} Bottom: {}\".format( \n",
    "    k, d.left(), d.top(), d.right(), d.bottom())) \n",
    "# Get the landmarks/parts for the face in box d. \n",
    "    num=0; \n",
    "    try: \n",
    "        while True: \n",
    "            num=num+1; \n",
    "            shape = predictor(img, d) \n",
    "            print(\"{}\".format(shape.part(num))) \n",
    "        # Draw the face landmarks on the screen. \n",
    "    except IndexError: \n",
    "        break; \n",
    "\n",
    "win.add_overlay(shape) \n",
    "\n",
    "win.add_overlay(dets) \n",
    "dlib.hit_enter_to_continue() \n",
    "cv2.imwrite('img.jpeg',img)\n"
   ]
  },
  {
   "cell_type": "code",
   "execution_count": null,
   "metadata": {
    "collapsed": true
   },
   "outputs": [],
   "source": []
  }
 ],
 "metadata": {
  "kernelspec": {
   "display_name": "Python 2",
   "language": "python",
   "name": "python2"
  },
  "language_info": {
   "codemirror_mode": {
    "name": "ipython",
    "version": 2
   },
   "file_extension": ".py",
   "mimetype": "text/x-python",
   "name": "python",
   "nbconvert_exporter": "python",
   "pygments_lexer": "ipython2",
   "version": "2.7.12"
  }
 },
 "nbformat": 4,
 "nbformat_minor": 2
}
