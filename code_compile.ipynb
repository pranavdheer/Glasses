{
 "cells": [
  {
   "cell_type": "code",
   "execution_count": 1,
   "metadata": {
    "collapsed": true
   },
   "outputs": [],
   "source": [
    "import cv2\n",
    "import numpy as np\n",
    "import dlib\n",
    "import math\n",
    "import os"
   ]
  },
  {
   "cell_type": "code",
   "execution_count": 3,
   "metadata": {
    "collapsed": false
   },
   "outputs": [],
   "source": [
    "camera=cv2.VideoCapture(0)\n",
    "detector = dlib.get_frontal_face_detector()\n",
    "predictor = dlib.shape_predictor(\"shape_predictor_68_face_landmarks.dat\")\n",
    "\n",
    "def allign(im):\n",
    "    \n",
    "  detections = detector(im, 1)\n",
    "  flag=2\n",
    "  for k,d in enumerate(detections): #For each detected face   \n",
    "   flag=1\n",
    "   shape = predictor(im, d)\n",
    "   a=(shape.part(36).x,shape.part(36).y)\n",
    "   b=(shape.part(45).x,shape.part(45).y)\n",
    "   p1=[a,b]\n",
    "  if flag==2:\n",
    "   return np.asrray([0])      \n",
    "  p2=[((int(0.3*200),66)),(int(0.7*200),66)]\n",
    "\n",
    "  s60 = math.sin(60*math.pi/180);\n",
    "  c60 = math.cos(60*math.pi/180);  \n",
    "  inPts = np.copy(p1).tolist();\n",
    "  outPts = np.copy(p2).tolist();\n",
    "  xin = c60*(inPts[0][0] - inPts[1][0]) - s60*(inPts[0][1] - inPts[1][1]) + inPts[1][0];\n",
    "  yin = s60*(inPts[0][0] - inPts[1][0]) + c60*(inPts[0][1] - inPts[1][1]) + inPts[1][1];\n",
    "  inPts.append([np.int(xin), np.int(yin)]);\n",
    "  xout = c60*(outPts[0][0] - outPts[1][0]) - s60*(outPts[0][1] - outPts[1][1]) + outPts[1][0];\n",
    "  yout = s60*(outPts[0][0] - outPts[1][0]) + c60*(outPts[0][1] - outPts[1][1]) + outPts[1][1];\n",
    "  outPts.append([np.int(xout), np.int(yout)]);\n",
    "  tform = cv2.estimateRigidTransform(np.array([inPts]), np.array([outPts]), False);\n",
    "  img2 = cv2.warpAffine(im, tform, (200,200));\n",
    "  detections = detector(img2, 1)\n",
    "  for k,d in enumerate(detections): \n",
    "   face=[[d.left(),d.right()],[d.top(),d.bottom()]]\n",
    "  if shape.part(20).y>shape.part(25).y:\n",
    "    top=shape.part(20).y\n",
    "  else :\n",
    "    top=shape.part(25).y\n",
    "\n",
    "  img2_cropped=img2[top:face[1][1],face[0][0]:face[0][1]]\n",
    "\n",
    "\n",
    "  img2_cropped=cv2.resize(img2_cropped,(200,200))\n",
    "  return img2_cropped\n",
    "\n",
    "\n",
    "def face_detect(gray):\n",
    "    detections = detector(gray, 1)\n",
    "    flag=0\n",
    "    face=[1]\n",
    "    for k,d in enumerate(detections):  \n",
    "      flag=1\n",
    "      \n",
    "      face=gray[d.top():d.bottom(),d.left():d.right()]\n",
    "    return face,flag \n",
    "\n",
    "def gamma(image,gamma):\n",
    "    invGamma = 1.0 / gamma\n",
    "    table1 = np.array([((i / 255.0) ** invGamma) * 255 for i in np.arange(0, 256)]).astype(\"uint8\")\n",
    "    p=cv2.LUT(image, table1)\n",
    "    return p\n",
    "\n",
    "def dog(img):\n",
    "    g1=cv2.GaussianBlur(img,(3,3),0)\n",
    "    g2=cv2.GaussianBlur(img,(23,23),0)\n",
    "    return g2-g1\n",
    "i=0\n",
    "while(1):\n",
    "    \n",
    "    ret,image=camera.read()\n",
    "    if ret == False:\n",
    "        continue\n",
    "    gray=cv2.cvtColor(image,cv2.COLOR_BGR2GRAY)\n",
    "    face,flag=face_detect(gray)\n",
    "    if flag==1:\n",
    "        face=cv2.resize(face,(200,200))\n",
    "        face = cv2.equalizeHist(face)\n",
    "        allign_face=allign(face)\n",
    "        #if allign_face==np.asrray([0]):\n",
    "         #continue\n",
    "        gamma_face=gamma(allign_face,0.5)\n",
    "        gauss_face=dog(gamma_face)\n",
    "        \n",
    "        cv2.imshow('img',allign_face)\n",
    "    \n",
    "        if cv2.waitKey(1)==ord('s'):\n",
    "          print 'saved'  \n",
    "          while os.path.exists(str(i)):\n",
    "           i = i+1\n",
    "          os.makedirs(str(i))\n",
    "          os.chdir(str(i))\n",
    "          for j in range(1,11):\n",
    "           cv2.imwrite(str(j)+'.jpeg',gauss_face)     \n",
    "           os.chdir('..')\n",
    "    \n",
    "    '''    \n",
    "    if flag==0:\n",
    "        cv2.imshow('img',gray)\n",
    "    '''\n",
    "    if cv2.waitKey(1)==ord('q'):\n",
    "        break\n",
    "     \n",
    "    \n",
    "        \n",
    "camera.release()\n",
    "cv2.destroyAllWindows()"
   ]
  },
  {
   "cell_type": "code",
   "execution_count": 5,
   "metadata": {
    "collapsed": false
   },
   "outputs": [
    {
     "name": "stdout",
     "output_type": "stream",
     "text": [
      "1 2\n"
     ]
    }
   ],
   "source": [
    "def p():\n",
    "    flag=1\n",
    "    a=2\n",
    "    return flag,a\n",
    "a,b=p()\n",
    "print a,b\n"
   ]
  },
  {
   "cell_type": "code",
   "execution_count": 4,
   "metadata": {
    "collapsed": false
   },
   "outputs": [],
   "source": [
    "import os\n",
    "os.makedirs(str(0))\n"
   ]
  },
  {
   "cell_type": "code",
   "execution_count": null,
   "metadata": {
    "collapsed": true
   },
   "outputs": [],
   "source": []
  }
 ],
 "metadata": {
  "kernelspec": {
   "display_name": "Python 2",
   "language": "python",
   "name": "python2"
  },
  "language_info": {
   "codemirror_mode": {
    "name": "ipython",
    "version": 2
   },
   "file_extension": ".py",
   "mimetype": "text/x-python",
   "name": "python",
   "nbconvert_exporter": "python",
   "pygments_lexer": "ipython2",
   "version": "2.7.12"
  }
 },
 "nbformat": 4,
 "nbformat_minor": 2
}
